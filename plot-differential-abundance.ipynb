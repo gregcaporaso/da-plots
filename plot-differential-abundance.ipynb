{
 "cells": [
  {
   "cell_type": "code",
   "execution_count": null,
   "id": "c4391077",
   "metadata": {},
   "outputs": [],
   "source": [
    "from pathlib import Path\n",
    "\n",
    "import altair as alt\n",
    "import pandas as pd\n",
    "import numpy as np\n",
    "\n",
    "import qiime2\n",
    "from q2_composition import DataLoafPackageDirFmt"
   ]
  },
  {
   "cell_type": "code",
   "execution_count": null,
   "id": "e392a6fa",
   "metadata": {},
   "outputs": [],
   "source": [
    "def plot_differentials(category, df, output_dir,\n",
    "                        q_threshold=1.0, \n",
    "                        lfc_abs_threshold=0, \n",
    "                        sort_by='lfc', \n",
    "                        feature_ids=None,\n",
    "                        figsize=(25, 25)):\n",
    "\n",
    "    output_dir = Path(output_dir)\n",
    "    output_dir.mkdir(parents=True, exist_ok=True) \n",
    "    fig_fp = output_dir / Path(f'{category}-ancombc-barplot.html')\n",
    "    \n",
    "    if feature_ids is not None:\n",
    "        # only display the feature-ids in the \n",
    "        # feature_ids list\n",
    "        raise NotImplementedError\n",
    "        df = df[df['feature-id'] in feature_ids]\n",
    "    \n",
    "    df = df[df['q_val'] <= q_threshold]\n",
    "    df = df[np.abs(df['lfc']) >= lfc_abs_threshold]\n",
    "    df = df.sort_values(sort_by)\n",
    "    df['q_val_text'] = [f'{q:.2e}' for q in df['q_val']]\n",
    "    \n",
    "    bars = alt.Chart(df).mark_bar().encode(\n",
    "        x='lfc',\n",
    "        y='feature-id'\n",
    "    )\n",
    "\n",
    "    text = bars.mark_text(\n",
    "        align='left',\n",
    "        baseline='middle',\n",
    "        dx=3  # Nudges text to right so it doesn't appear on top of the bar\n",
    "    ).encode(\n",
    "        text='q_val_text'\n",
    "    )\n",
    "\n",
    "    chart = (bars + text).properties(height=900)\n",
    "    chart.save(fig_fp)"
   ]
  },
  {
   "cell_type": "code",
   "execution_count": null,
   "id": "ec1fe402",
   "metadata": {},
   "outputs": [],
   "source": [
    "loaf = qiime2.Artifact.load('./ancombc-body_habitat.qza')\n",
    "\n",
    "slices = loaf.view(DataLoafPackageDirFmt)\n",
    "data = {}\n",
    "for e in slices.data_slices.iter_views(pd.DataFrame):\n",
    "    data[str(e[0]).replace('_slice.csv','')] = e[1]\n",
    "columns = [e for e in data['lfc'].columns if e not in '(Intercept)']\n",
    "\n",
    "figure_data = []\n",
    "for category in columns:\n",
    "    if category == 'id':\n",
    "        continue\n",
    "    df = pd.concat([data['lfc']['id'], \n",
    "                    data['lfc'][category], \n",
    "                    data['se'][category], \n",
    "                    data['q_val'][category]],\n",
    "                   keys=['feature-id', 'lfc', 'se', 'q_val'], axis=1)\n",
    "    figure_data.append((category, df))\n",
    "    plot_differentials(category, df, './da-plots/', q_threshold=0.001)"
   ]
  },
  {
   "cell_type": "code",
   "execution_count": null,
   "id": "1678436c",
   "metadata": {},
   "outputs": [],
   "source": []
  }
 ],
 "metadata": {
  "kernelspec": {
   "display_name": "Python 3 (ipykernel)",
   "language": "python",
   "name": "python3"
  },
  "language_info": {
   "codemirror_mode": {
    "name": "ipython",
    "version": 3
   },
   "file_extension": ".py",
   "mimetype": "text/x-python",
   "name": "python",
   "nbconvert_exporter": "python",
   "pygments_lexer": "ipython3",
   "version": "3.8.15"
  }
 },
 "nbformat": 4,
 "nbformat_minor": 5
}
