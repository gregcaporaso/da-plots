{
 "cells": [
  {
   "cell_type": "code",
   "execution_count": 1,
   "id": "c27c5ef5",
   "metadata": {},
   "outputs": [],
   "source": [
    "from pathlib import Path\n",
    "\n",
    "import seaborn as sns\n",
    "import pandas as pd\n",
    "import numpy as np\n",
    "import matplotlib.pyplot as plt\n",
    "\n",
    "import qiime2\n",
    "from q2_composition import DataLoafPackageDirFmt"
   ]
  },
  {
   "cell_type": "code",
   "execution_count": 2,
   "id": "5e313010",
   "metadata": {},
   "outputs": [],
   "source": [
    "def plot_differentials(category, df, output_dir,\n",
    "                       q_threshold=1.0, \n",
    "                       lfc_abs_threshold=0, \n",
    "                       sort_by='lfc', \n",
    "                       feature_ids=None,\n",
    "                       figsize=(25, 25)):\n",
    "\n",
    "    output_dir = Path(output_dir)\n",
    "    output_dir.mkdir(parents=True, exist_ok=True) \n",
    "    fig_fp = output_dir / Path(f'{category}-ancombc-barplot.pdf')\n",
    "    \n",
    "    if feature_ids is not None:\n",
    "        df = df[df['feature-id'] in feature_ids]\n",
    "    \n",
    "    df = df[df['q_val'] <= q_threshold]\n",
    "    df = df[np.abs(df['lfc']) >= lfc_abs_threshold]\n",
    "    df = df.sort_values(sort_by)\n",
    "    \n",
    "    sns.set_theme(style=\"whitegrid\")\n",
    "    \n",
    "    f, ax = plt.subplots(figsize=figsize)\n",
    "\n",
    "    sns.barplot(\n",
    "        data=df, x=\"lfc\", y=\"feature-id\", xerr=df['se'],\n",
    "        capsize=.4, errcolor=\".5\",\n",
    "        linewidth=1, edgecolor=\".5\", facecolor=(0, 0, 0, 0),\n",
    "    )\n",
    "\n",
    "    ax.set_title(f'{category} enrichment relative to reference')\n",
    "    ax.set_xlabel('Log fold change (LFC)')\n",
    "    ax.set_ylabel('Feature ID')\n",
    "    \n",
    "    f.savefig(fig_fp, bbox_inches='tight')"
   ]
  },
  {
   "cell_type": "code",
   "execution_count": 3,
   "id": "14f01587",
   "metadata": {},
   "outputs": [],
   "source": [
    "loaf = qiime2.Artifact.load('./ancombc-body_habitat.qza')\n",
    "slices = loaf.view(DataLoafPackageDirFmt)\n",
    "data = {}\n",
    "for e in slices.data_slices.iter_views(pd.DataFrame):\n",
    "    data[str(e[0]).replace('_slice.csv','')] = e[1]\n",
    "columns = [e for e in data['lfc'].columns if e not in '(Intercept)']\n",
    "\n",
    "figure_data = []\n",
    "for category in columns:\n",
    "    if category == 'id':\n",
    "        continue\n",
    "    df = pd.concat([data['lfc']['id'], data['lfc'][category], data['se'][category], data['q_val'][category]],\n",
    "                   keys=['feature-id', 'lfc', 'se', 'q_val'], axis=1)\n",
    "    figure_data.append((category, df))\n",
    "    plot_differentials(category, df, './da-plots/', q_threshold=0.001)"
   ]
  },
  {
   "cell_type": "code",
   "execution_count": null,
   "id": "94ad1d72",
   "metadata": {},
   "outputs": [],
   "source": []
  },
  {
   "cell_type": "code",
   "execution_count": null,
   "id": "697ce8fd",
   "metadata": {},
   "outputs": [],
   "source": []
  }
 ],
 "metadata": {
  "kernelspec": {
   "display_name": "Python 3 (ipykernel)",
   "language": "python",
   "name": "python3"
  },
  "language_info": {
   "codemirror_mode": {
    "name": "ipython",
    "version": 3
   },
   "file_extension": ".py",
   "mimetype": "text/x-python",
   "name": "python",
   "nbconvert_exporter": "python",
   "pygments_lexer": "ipython3",
   "version": "3.8.15"
  }
 },
 "nbformat": 4,
 "nbformat_minor": 5
}
